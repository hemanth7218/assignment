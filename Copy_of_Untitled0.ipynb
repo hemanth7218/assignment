{
  "nbformat": 4,
  "nbformat_minor": 0,
  "metadata": {
    "colab": {
      "name": "Copy of Untitled0.ipynb",
      "provenance": [],
      "mount_file_id": "1Q3fZDdvMY8Hpw59XB7luB1osnCIbBNw0",
      "authorship_tag": "ABX9TyOzbasS3+AVJNtcCojnFsfK",
      "include_colab_link": true
    },
    "kernelspec": {
      "name": "python3",
      "display_name": "Python 3"
    },
    "language_info": {
      "name": "python"
    }
  },
  "cells": [
    {
      "cell_type": "markdown",
      "metadata": {
        "id": "view-in-github",
        "colab_type": "text"
      },
      "source": [
        "<a href=\"https://colab.research.google.com/github/hemanth7218/assignment/blob/main/Copy_of_Untitled0.ipynb\" target=\"_parent\"><img src=\"https://colab.research.google.com/assets/colab-badge.svg\" alt=\"Open In Colab\"/></a>"
      ]
    },
    {
      "cell_type": "code",
      "metadata": {
        "id": "N8ILYqczlJnT"
      },
      "source": [
        "dict={'A':{'Name':'Hemanth','Age':'21','Job':'Student','city':'Hyderabad'},\n",
        "      'B':{'Name':'Vamshi','Age':'25','Job':'Driver','City':'karimnagar'}}"
      ],
      "execution_count": null,
      "outputs": []
    },
    {
      "cell_type": "code",
      "metadata": {
        "colab": {
          "base_uri": "https://localhost:8080/"
        },
        "id": "UWQRVDdxo_3E",
        "outputId": "f521323d-e0d5-429b-e4f3-2d01e31f7227"
      },
      "source": [
        "print(dict)"
      ],
      "execution_count": null,
      "outputs": [
        {
          "output_type": "stream",
          "text": [
            "{'A': {'Name': 'Hemanth', 'Age': '21', 'Job': 'Student', 'city': 'Hyderabad'}, 'B': {'Name': 'Vamshi', 'Age': '25', 'Job': 'Driver', 'City': 'karimnagar'}}\n"
          ],
          "name": "stdout"
        }
      ]
    },
    {
      "cell_type": "code",
      "metadata": {
        "id": "rj1IW_gMpse3"
      },
      "source": [
        "#TUPLE"
      ],
      "execution_count": null,
      "outputs": []
    },
    {
      "cell_type": "code",
      "metadata": {
        "id": "aJ0h619jp1KS"
      },
      "source": [
        "The tuples are used to store mutltiple items in a single variable.Tuple are immutable which means we cannot change the elements of a tuple once assigned.\n",
        "you can use a tuple to list the pancard numbers,because they are assigend unique for every person and two people cannot have the same number."
      ],
      "execution_count": null,
      "outputs": []
    }
  ]
}